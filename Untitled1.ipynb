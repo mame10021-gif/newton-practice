{
 "cells": [
  {
   "cell_type": "code",
   "execution_count": 1,
   "id": "3c9d6d16-7ae9-4d79-991d-0c3e9b84ac49",
   "metadata": {},
   "outputs": [
    {
     "name": "stdout",
     "output_type": "stream",
     "text": [
      "Optimization exceeded  10000\n",
      "optimized value of x 5.172376664641197\n"
     ]
    }
   ],
   "source": [
    "import pandas as pd\n",
    "import numpy as np\n",
    "x0 = 10.0\n",
    "x = x0\n",
    "x_new = 0.0\n",
    "epsilon = 1e-5\n",
    "it_threshold = 1e+4\n",
    "\n",
    "def func_x(x):\n",
    "    res = x**3 - x**2 - 1\n",
    "    return res\n",
    "\n",
    "def func_x_1(x, epsilon = epsilon):\n",
    "    res = (func_x(x+epsilon) - func_x(x))/epsilon\n",
    "    return res\n",
    "\n",
    "def func_x_2(x, epsilon = epsilon):\n",
    "    res = (func_x_1(x+epsilon) - func_x_1(x))/epsilon\n",
    "    return res\n",
    "\n",
    "fx_1 = 0\n",
    "fx_2 = 0\n",
    "\n",
    "diff = 100\n",
    "diff_threshold = 1e-5\n",
    "\n",
    "def optimize(func_x = func_x, func_x_1 = func_x_1, func_x_2 = func_x_2, x = x0, epsilon = epsilon, diff_threshold = diff_threshold):\n",
    "    diff = diff_threshold + 1\n",
    "    i = 0\n",
    "    while(diff > diff_threshold):\n",
    "        fx = func_x(x)\n",
    "        fx_1 = func_x_1(x, epsilon)\n",
    "        fx_2 = func_x_2(x, epsilon)\n",
    "        x_new = x-(fx_1/fx_2)\n",
    "        diff = abs(x-x_new)\n",
    "        # if(i%10 == 0):\n",
    "        #     print(\"Iteration #\"+ str(i+1))\n",
    "        #     print(x)\n",
    "        #     print(\"f(x):\", fx)\n",
    "        #     print(\"f'(x):\", fx_1)\n",
    "        #     print(\"f''(x):\", fx_2)\n",
    "        #     print(\"x_new:\", x_new)\n",
    "        #     print(\"diff\", diff)\n",
    "        i += 1\n",
    "        if(i >= it_threshold):\n",
    "            print('Optimization exceeded ', i)\n",
    "            break\n",
    "    return x_new\n",
    "\n",
    "\n",
    "x = optimize (func_x, func_x_1, func_x_2, x, epsilon)\n",
    "\n",
    "\n",
    "print(\"optimized value of x\", x)"
   ]
  },
  {
   "cell_type": "code",
   "execution_count": null,
   "id": "e659a38f-987c-41b2-872a-93835027593e",
   "metadata": {},
   "outputs": [],
   "source": []
  }
 ],
 "metadata": {
  "kernelspec": {
   "display_name": "Python 3 (ipykernel)",
   "language": "python",
   "name": "python3"
  },
  "language_info": {
   "codemirror_mode": {
    "name": "ipython",
    "version": 3
   },
   "file_extension": ".py",
   "mimetype": "text/x-python",
   "name": "python",
   "nbconvert_exporter": "python",
   "pygments_lexer": "ipython3",
   "version": "3.11.13"
  }
 },
 "nbformat": 4,
 "nbformat_minor": 5
}
