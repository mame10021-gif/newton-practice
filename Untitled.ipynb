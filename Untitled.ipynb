{
 "cells": [
  {
   "cell_type": "code",
   "execution_count": 45,
   "id": "94fd0ee7-4673-45bb-9705-6edc56ab1afd",
   "metadata": {},
   "outputs": [
    {
     "data": {
      "text/plain": [
       "(2.8793852415425496,\n",
       " [2.5,\n",
       "  3.0666646065383905,\n",
       "  2.9008751374150465,\n",
       "  2.87971991047034,\n",
       "  2.8793853244471634,\n",
       "  2.8793852415425496])"
      ]
     },
     "execution_count": 45,
     "metadata": {},
     "output_type": "execute_result"
    }
   ],
   "source": [
    "import newton\n",
    "import numpy as np\n",
    "newton.optimize(2.5, lambda x: (x**4)/4 - x**3 + x, tol=1e-6, max_iter=100, h=1e-5, return_history=True, comments=False)"
   ]
  },
  {
   "cell_type": "code",
   "execution_count": null,
   "id": "b832593c-1a41-4314-9909-f8931c858197",
   "metadata": {},
   "outputs": [],
   "source": []
  },
  {
   "cell_type": "code",
   "execution_count": null,
   "id": "c61ae9be-1c50-4e93-8a3a-2e714bf9b49b",
   "metadata": {},
   "outputs": [],
   "source": []
  }
 ],
 "metadata": {
  "kernelspec": {
   "display_name": "Python 3 (ipykernel)",
   "language": "python",
   "name": "python3"
  },
  "language_info": {
   "codemirror_mode": {
    "name": "ipython",
    "version": 3
   },
   "file_extension": ".py",
   "mimetype": "text/x-python",
   "name": "python",
   "nbconvert_exporter": "python",
   "pygments_lexer": "ipython3",
   "version": "3.11.13"
  }
 },
 "nbformat": 4,
 "nbformat_minor": 5
}
